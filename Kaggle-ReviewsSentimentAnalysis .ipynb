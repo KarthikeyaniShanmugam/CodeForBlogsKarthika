{
 "cells": [
  {
   "cell_type": "markdown",
   "id": "b365c056",
   "metadata": {},
   "source": [
    "Note: The Following code is just for reference. I am using dataset from Kaggle, Dataset link: https://www.kaggle.com/competitions/sentiment-analysis-company-reviews/data.\n",
    "\n",
    "I am just using a small part of Dataset, as the main focus is on python SKlearn model to ONNX model"
   ]
  },
  {
   "cell_type": "code",
   "execution_count": 10,
   "id": "9843a980",
   "metadata": {},
   "outputs": [],
   "source": [
    "# Importing Required libraries"
   ]
  },
  {
   "cell_type": "code",
   "execution_count": 38,
   "id": "563593d6",
   "metadata": {},
   "outputs": [],
   "source": [
    "import pandas as pd\n",
    "import numpy as np\n",
    "\n",
    "import nltk\n",
    "from nltk.corpus import stopwords\n",
    "from nltk.tokenize import word_tokenize\n",
    "import re\n",
    "from nltk.stem import PorterStemmer\n",
    "\n",
    "\n",
    "from sklearn.pipeline import Pipeline\n",
    "\n",
    "\n",
    "from sklearn.feature_extraction.text import CountVectorizer\n",
    "\n",
    "from sklearn.feature_extraction.text import TfidfTransformer\n",
    "from sklearn.model_selection import train_test_split\n",
    "\n",
    "from sklearn.ensemble import RandomForestClassifier\n",
    "\n",
    "from sklearn.metrics import classification_report, confusion_matrix, accuracy_score"
   ]
  },
  {
   "cell_type": "markdown",
   "id": "72da864a",
   "metadata": {},
   "source": [
    "# Loading Data"
   ]
  },
  {
   "cell_type": "code",
   "execution_count": 39,
   "id": "2d512eba",
   "metadata": {},
   "outputs": [
    {
     "data": {
      "text/html": [
       "<div>\n",
       "<style scoped>\n",
       "    .dataframe tbody tr th:only-of-type {\n",
       "        vertical-align: middle;\n",
       "    }\n",
       "\n",
       "    .dataframe tbody tr th {\n",
       "        vertical-align: top;\n",
       "    }\n",
       "\n",
       "    .dataframe thead th {\n",
       "        text-align: right;\n",
       "    }\n",
       "</style>\n",
       "<table border=\"1\" class=\"dataframe\">\n",
       "  <thead>\n",
       "    <tr style=\"text-align: right;\">\n",
       "      <th></th>\n",
       "      <th>Id</th>\n",
       "      <th>Review</th>\n",
       "      <th>Rating</th>\n",
       "    </tr>\n",
       "  </thead>\n",
       "  <tbody>\n",
       "    <tr>\n",
       "      <th>0</th>\n",
       "      <td>0</td>\n",
       "      <td>Very good value and a great tv very happy and ...</td>\n",
       "      <td>5</td>\n",
       "    </tr>\n",
       "    <tr>\n",
       "      <th>1</th>\n",
       "      <td>1</td>\n",
       "      <td>After 6 month still can't access my account</td>\n",
       "      <td>3</td>\n",
       "    </tr>\n",
       "    <tr>\n",
       "      <th>2</th>\n",
       "      <td>2</td>\n",
       "      <td>I couldn't make an official review on a produc...</td>\n",
       "      <td>1</td>\n",
       "    </tr>\n",
       "    <tr>\n",
       "      <th>3</th>\n",
       "      <td>3</td>\n",
       "      <td>Fantastic! Extremely easy to use website, fant...</td>\n",
       "      <td>5</td>\n",
       "    </tr>\n",
       "    <tr>\n",
       "      <th>4</th>\n",
       "      <td>4</td>\n",
       "      <td>So far annoyed as hell with this bt monthly pa...</td>\n",
       "      <td>1</td>\n",
       "    </tr>\n",
       "  </tbody>\n",
       "</table>\n",
       "</div>"
      ],
      "text/plain": [
       "   Id                                             Review  Rating\n",
       "0   0  Very good value and a great tv very happy and ...       5\n",
       "1   1        After 6 month still can't access my account       3\n",
       "2   2  I couldn't make an official review on a produc...       1\n",
       "3   3  Fantastic! Extremely easy to use website, fant...       5\n",
       "4   4  So far annoyed as hell with this bt monthly pa...       1"
      ]
     },
     "execution_count": 39,
     "metadata": {},
     "output_type": "execute_result"
    }
   ],
   "source": [
    "path = r\"sentiment-analysis-company-reviews\"\n",
    "df = pd.read_csv(path + \"\\\\train.csv\")\n",
    "df.head(5)"
   ]
  },
  {
   "cell_type": "code",
   "execution_count": 40,
   "id": "cc0a2202",
   "metadata": {},
   "outputs": [],
   "source": [
    "# Sampling Smaller part , please do uncomment below code if you want to use entire dataset"
   ]
  },
  {
   "cell_type": "code",
   "execution_count": 41,
   "id": "a1ee3c50",
   "metadata": {},
   "outputs": [],
   "source": [
    "df = df.sample(frac=0.1, replace=False, random_state=1)"
   ]
  },
  {
   "cell_type": "markdown",
   "id": "9d77e9f1",
   "metadata": {},
   "source": [
    "# Preprocessing"
   ]
  },
  {
   "cell_type": "code",
   "execution_count": 42,
   "id": "2c7fc21d",
   "metadata": {},
   "outputs": [],
   "source": [
    "stemmer = PorterStemmer()\n",
    "stopwords = stopwords.words('english')\n",
    "# stopwords.extend([\"we're\", \"i\" , 'if', 'this', \"im\" , \"cant\",\"i'm\"])\n",
    "# print(stopwords)\n",
    "def lower_text(text):\n",
    "    return text.lower()\n",
    "\n",
    "def remove_number(text):\n",
    "    num = re.compile(r'[-+]?[.\\d]*[\\d]+[:,.\\d]*')\n",
    "    return num.sub(r'', text)\n",
    "\n",
    "def remove_punct(text):\n",
    "    punctuations = '@#!?+&*[]-%.:/();$=><|{}^' + \"'`\"\n",
    "    \n",
    "    for p in punctuations:\n",
    "#         text = text.replace(p, f' {p} ')\n",
    "        text = text.replace(p,'')\n",
    "    text = text.replace(\",\",'')\n",
    "    text = text.replace(\".\",'')\n",
    "    text = text.replace(\"'\",'')  \n",
    "    text = text.replace(\"'\",'')   \n",
    "    return text\n",
    "\n",
    "def remove_quotes(text):\n",
    "    text = text.replace('\"','')\n",
    "    return text\n",
    "\n",
    "def remove_stopwords(text):\n",
    "    text_list = text.split()\n",
    "    text_out_list = []\n",
    "    for word in text_list:\n",
    "#         print(\"word\", word)\n",
    "        if word not in stopwords:\n",
    "            text_out_list.append(word)\n",
    "    out_text = ' '.join(text_out_list)\n",
    "    return out_text\n",
    "\n",
    "def stem(utterance):\n",
    "    #Remove all single characters\n",
    "    utterance = re.sub(r'\\s+[a-zA-Z]\\s+',' ',str(utterance))\n",
    "\n",
    "    #Removing single characters from the start\n",
    "    utterance = re.sub(r'^[a-zA-Z]\\s+', ' ', utterance)\n",
    "\n",
    "    #Substituting multiple spaces with single space\n",
    "    utterance = re.sub(r'\\s+', ' ', utterance,flags=re.I)\n",
    "\n",
    "    utterance = utterance.lower()\n",
    "\n",
    "    #Lemmatization\n",
    "    utterance_list = utterance.split()\n",
    "    utterance_out_list = []\n",
    "    for word in utterance_list:\n",
    "        utterance_out_list.append(stemmer.stem(word))\n",
    "\n",
    "    utterance = ' '.join(utterance_out_list)\n",
    "    return utterance\n",
    "\n",
    "\n",
    "def clean_text(text):\n",
    "    text = lower_text(text)\n",
    "    text = remove_number(text)    \n",
    "    text = remove_quotes(text)\n",
    "# #     print(\"text before stop words removal: \")\n",
    "# #     print(text)\n",
    "#     text = remove_stopwords(text)\n",
    "# #     print(\"text after stop words removal: \")\n",
    "# #     print(text)    \n",
    "    \n",
    "    text = remove_punct(text)\n",
    "# #     print(\"text before stemming: \")\n",
    "# #     print(text)\n",
    "    text = stem(text)\n",
    "    \n",
    "#     print(\"text after stemming: \")\n",
    "#     print(text)\n",
    "    \n",
    "    return text"
   ]
  },
  {
   "cell_type": "code",
   "execution_count": 43,
   "id": "2e329cc7",
   "metadata": {},
   "outputs": [],
   "source": [
    "df[\"clean_input\"] = df[\"Review\"].apply(clean_text)"
   ]
  },
  {
   "cell_type": "code",
   "execution_count": 44,
   "id": "e3d85b95",
   "metadata": {},
   "outputs": [],
   "source": [
    "X = []\n",
    "y = []\n",
    "for index,row in df.iterrows():\n",
    "    X.append(row['clean_input'])\n",
    "    y.append(row['Rating'])\n",
    "    \n",
    "y = np.array(y)"
   ]
  },
  {
   "cell_type": "code",
   "execution_count": 45,
   "id": "4d68b38f",
   "metadata": {},
   "outputs": [],
   "source": [
    "X_train, X_test, y_train, y_test = train_test_split(X, y, test_size=0.20, random_state=42)"
   ]
  },
  {
   "cell_type": "markdown",
   "id": "18117dd4",
   "metadata": {},
   "source": [
    "Always use Pipeline of the components(Eg: vectorizer, classifier etc..) instead of training seperately for improved accuracy. Because pipeline helps in each components getting optimized together rather than seperately.\n",
    "As this is sample code, I am not doing any preprocessing."
   ]
  },
  {
   "cell_type": "code",
   "execution_count": 46,
   "id": "e255afc2",
   "metadata": {},
   "outputs": [],
   "source": [
    "model_pipeline = Pipeline(steps=[('countVectorizer', CountVectorizer(max_features=1500, min_df=1, max_df=0.75,ngram_range = (1, 3))), \n",
    "                                 ('tfidfconverter',TfidfTransformer()),\n",
    "                                 ('classifier', RandomForestClassifier(n_estimators=1000, random_state=0))\n",
    "                                 ])"
   ]
  },
  {
   "cell_type": "code",
   "execution_count": 47,
   "id": "a87c489c",
   "metadata": {},
   "outputs": [
    {
     "data": {
      "text/html": [
       "<style>#sk-container-id-4 {color: black;background-color: white;}#sk-container-id-4 pre{padding: 0;}#sk-container-id-4 div.sk-toggleable {background-color: white;}#sk-container-id-4 label.sk-toggleable__label {cursor: pointer;display: block;width: 100%;margin-bottom: 0;padding: 0.3em;box-sizing: border-box;text-align: center;}#sk-container-id-4 label.sk-toggleable__label-arrow:before {content: \"▸\";float: left;margin-right: 0.25em;color: #696969;}#sk-container-id-4 label.sk-toggleable__label-arrow:hover:before {color: black;}#sk-container-id-4 div.sk-estimator:hover label.sk-toggleable__label-arrow:before {color: black;}#sk-container-id-4 div.sk-toggleable__content {max-height: 0;max-width: 0;overflow: hidden;text-align: left;background-color: #f0f8ff;}#sk-container-id-4 div.sk-toggleable__content pre {margin: 0.2em;color: black;border-radius: 0.25em;background-color: #f0f8ff;}#sk-container-id-4 input.sk-toggleable__control:checked~div.sk-toggleable__content {max-height: 200px;max-width: 100%;overflow: auto;}#sk-container-id-4 input.sk-toggleable__control:checked~label.sk-toggleable__label-arrow:before {content: \"▾\";}#sk-container-id-4 div.sk-estimator input.sk-toggleable__control:checked~label.sk-toggleable__label {background-color: #d4ebff;}#sk-container-id-4 div.sk-label input.sk-toggleable__control:checked~label.sk-toggleable__label {background-color: #d4ebff;}#sk-container-id-4 input.sk-hidden--visually {border: 0;clip: rect(1px 1px 1px 1px);clip: rect(1px, 1px, 1px, 1px);height: 1px;margin: -1px;overflow: hidden;padding: 0;position: absolute;width: 1px;}#sk-container-id-4 div.sk-estimator {font-family: monospace;background-color: #f0f8ff;border: 1px dotted black;border-radius: 0.25em;box-sizing: border-box;margin-bottom: 0.5em;}#sk-container-id-4 div.sk-estimator:hover {background-color: #d4ebff;}#sk-container-id-4 div.sk-parallel-item::after {content: \"\";width: 100%;border-bottom: 1px solid gray;flex-grow: 1;}#sk-container-id-4 div.sk-label:hover label.sk-toggleable__label {background-color: #d4ebff;}#sk-container-id-4 div.sk-serial::before {content: \"\";position: absolute;border-left: 1px solid gray;box-sizing: border-box;top: 0;bottom: 0;left: 50%;z-index: 0;}#sk-container-id-4 div.sk-serial {display: flex;flex-direction: column;align-items: center;background-color: white;padding-right: 0.2em;padding-left: 0.2em;position: relative;}#sk-container-id-4 div.sk-item {position: relative;z-index: 1;}#sk-container-id-4 div.sk-parallel {display: flex;align-items: stretch;justify-content: center;background-color: white;position: relative;}#sk-container-id-4 div.sk-item::before, #sk-container-id-4 div.sk-parallel-item::before {content: \"\";position: absolute;border-left: 1px solid gray;box-sizing: border-box;top: 0;bottom: 0;left: 50%;z-index: -1;}#sk-container-id-4 div.sk-parallel-item {display: flex;flex-direction: column;z-index: 1;position: relative;background-color: white;}#sk-container-id-4 div.sk-parallel-item:first-child::after {align-self: flex-end;width: 50%;}#sk-container-id-4 div.sk-parallel-item:last-child::after {align-self: flex-start;width: 50%;}#sk-container-id-4 div.sk-parallel-item:only-child::after {width: 0;}#sk-container-id-4 div.sk-dashed-wrapped {border: 1px dashed gray;margin: 0 0.4em 0.5em 0.4em;box-sizing: border-box;padding-bottom: 0.4em;background-color: white;}#sk-container-id-4 div.sk-label label {font-family: monospace;font-weight: bold;display: inline-block;line-height: 1.2em;}#sk-container-id-4 div.sk-label-container {text-align: center;}#sk-container-id-4 div.sk-container {/* jupyter's `normalize.less` sets `[hidden] { display: none; }` but bootstrap.min.css set `[hidden] { display: none !important; }` so we also need the `!important` here to be able to override the default hidden behavior on the sphinx rendered scikit-learn.org. See: https://github.com/scikit-learn/scikit-learn/issues/21755 */display: inline-block !important;position: relative;}#sk-container-id-4 div.sk-text-repr-fallback {display: none;}</style><div id=\"sk-container-id-4\" class=\"sk-top-container\"><div class=\"sk-text-repr-fallback\"><pre>Pipeline(steps=[(&#x27;countVectorizer&#x27;,\n",
       "                 CountVectorizer(max_df=0.75, max_features=1500,\n",
       "                                 ngram_range=(1, 3))),\n",
       "                (&#x27;tfidfconverter&#x27;, TfidfTransformer()),\n",
       "                (&#x27;classifier&#x27;,\n",
       "                 RandomForestClassifier(n_estimators=1000, random_state=0))])</pre><b>In a Jupyter environment, please rerun this cell to show the HTML representation or trust the notebook. <br />On GitHub, the HTML representation is unable to render, please try loading this page with nbviewer.org.</b></div><div class=\"sk-container\" hidden><div class=\"sk-item sk-dashed-wrapped\"><div class=\"sk-label-container\"><div class=\"sk-label sk-toggleable\"><input class=\"sk-toggleable__control sk-hidden--visually\" id=\"sk-estimator-id-13\" type=\"checkbox\" ><label for=\"sk-estimator-id-13\" class=\"sk-toggleable__label sk-toggleable__label-arrow\">Pipeline</label><div class=\"sk-toggleable__content\"><pre>Pipeline(steps=[(&#x27;countVectorizer&#x27;,\n",
       "                 CountVectorizer(max_df=0.75, max_features=1500,\n",
       "                                 ngram_range=(1, 3))),\n",
       "                (&#x27;tfidfconverter&#x27;, TfidfTransformer()),\n",
       "                (&#x27;classifier&#x27;,\n",
       "                 RandomForestClassifier(n_estimators=1000, random_state=0))])</pre></div></div></div><div class=\"sk-serial\"><div class=\"sk-item\"><div class=\"sk-estimator sk-toggleable\"><input class=\"sk-toggleable__control sk-hidden--visually\" id=\"sk-estimator-id-14\" type=\"checkbox\" ><label for=\"sk-estimator-id-14\" class=\"sk-toggleable__label sk-toggleable__label-arrow\">CountVectorizer</label><div class=\"sk-toggleable__content\"><pre>CountVectorizer(max_df=0.75, max_features=1500, ngram_range=(1, 3))</pre></div></div></div><div class=\"sk-item\"><div class=\"sk-estimator sk-toggleable\"><input class=\"sk-toggleable__control sk-hidden--visually\" id=\"sk-estimator-id-15\" type=\"checkbox\" ><label for=\"sk-estimator-id-15\" class=\"sk-toggleable__label sk-toggleable__label-arrow\">TfidfTransformer</label><div class=\"sk-toggleable__content\"><pre>TfidfTransformer()</pre></div></div></div><div class=\"sk-item\"><div class=\"sk-estimator sk-toggleable\"><input class=\"sk-toggleable__control sk-hidden--visually\" id=\"sk-estimator-id-16\" type=\"checkbox\" ><label for=\"sk-estimator-id-16\" class=\"sk-toggleable__label sk-toggleable__label-arrow\">RandomForestClassifier</label><div class=\"sk-toggleable__content\"><pre>RandomForestClassifier(n_estimators=1000, random_state=0)</pre></div></div></div></div></div></div></div>"
      ],
      "text/plain": [
       "Pipeline(steps=[('countVectorizer',\n",
       "                 CountVectorizer(max_df=0.75, max_features=1500,\n",
       "                                 ngram_range=(1, 3))),\n",
       "                ('tfidfconverter', TfidfTransformer()),\n",
       "                ('classifier',\n",
       "                 RandomForestClassifier(n_estimators=1000, random_state=0))])"
      ]
     },
     "execution_count": 47,
     "metadata": {},
     "output_type": "execute_result"
    }
   ],
   "source": [
    "model_pipeline.fit(X_train, y_train)"
   ]
  },
  {
   "cell_type": "code",
   "execution_count": 48,
   "id": "620d9e22",
   "metadata": {},
   "outputs": [],
   "source": [
    "y_pred = model_pipeline.predict(X_test)"
   ]
  },
  {
   "cell_type": "markdown",
   "id": "74293a67",
   "metadata": {},
   "source": [
    "Do Not mind accuarcy as its just sample modelling"
   ]
  },
  {
   "cell_type": "code",
   "execution_count": 49,
   "id": "62063bc3",
   "metadata": {},
   "outputs": [
    {
     "name": "stdout",
     "output_type": "stream",
     "text": [
      "[[346   0   0   0  35]\n",
      " [ 35   0   0   0  11]\n",
      " [ 14   0   0   0  10]\n",
      " [ 20   0   0   0  68]\n",
      " [ 29   0   0   0 632]]\n",
      "              precision    recall  f1-score   support\n",
      "\n",
      "           1       0.78      0.91      0.84       381\n",
      "           2       0.00      0.00      0.00        46\n",
      "           3       0.00      0.00      0.00        24\n",
      "           4       0.00      0.00      0.00        88\n",
      "           5       0.84      0.96      0.89       661\n",
      "\n",
      "    accuracy                           0.81      1200\n",
      "   macro avg       0.32      0.37      0.35      1200\n",
      "weighted avg       0.71      0.81      0.76      1200\n",
      "\n",
      "0.815\n"
     ]
    },
    {
     "name": "stderr",
     "output_type": "stream",
     "text": [
      "c:\\users\\hkt1cob\\appdata\\local\\programs\\python\\python38\\lib\\site-packages\\sklearn\\metrics\\_classification.py:1327: UndefinedMetricWarning: Precision and F-score are ill-defined and being set to 0.0 in labels with no predicted samples. Use `zero_division` parameter to control this behavior.\n",
      "  _warn_prf(average, modifier, msg_start, len(result))\n",
      "c:\\users\\hkt1cob\\appdata\\local\\programs\\python\\python38\\lib\\site-packages\\sklearn\\metrics\\_classification.py:1327: UndefinedMetricWarning: Precision and F-score are ill-defined and being set to 0.0 in labels with no predicted samples. Use `zero_division` parameter to control this behavior.\n",
      "  _warn_prf(average, modifier, msg_start, len(result))\n",
      "c:\\users\\hkt1cob\\appdata\\local\\programs\\python\\python38\\lib\\site-packages\\sklearn\\metrics\\_classification.py:1327: UndefinedMetricWarning: Precision and F-score are ill-defined and being set to 0.0 in labels with no predicted samples. Use `zero_division` parameter to control this behavior.\n",
      "  _warn_prf(average, modifier, msg_start, len(result))\n"
     ]
    }
   ],
   "source": [
    "print(confusion_matrix(y_test,y_pred))\n",
    "print(classification_report(y_test,y_pred))\n",
    "print(accuracy_score(y_test, y_pred))"
   ]
  },
  {
   "cell_type": "markdown",
   "id": "aacf1e97",
   "metadata": {},
   "source": [
    "# Convert SKlearn to ONNX model"
   ]
  },
  {
   "cell_type": "code",
   "execution_count": 50,
   "id": "62e84185",
   "metadata": {},
   "outputs": [],
   "source": [
    "from skl2onnx.common.data_types import StringTensorType\n",
    "import onnx\n",
    "import onnxmltools\n",
    "import numpy as np\n",
    "import onnxruntime as rt"
   ]
  },
  {
   "cell_type": "code",
   "execution_count": 51,
   "id": "83eac2ef",
   "metadata": {},
   "outputs": [],
   "source": [
    "# Define input_type based on type of your data. string in our case\n",
    "input_type = [('input', StringTensorType([]))]\n",
    "\n",
    "# Convert the pipeline to ONNX model\n",
    "onnx_model = onnxmltools.convert_sklearn(model_pipeline, initial_types=input_type)"
   ]
  },
  {
   "cell_type": "code",
   "execution_count": 52,
   "id": "2a5b81b4",
   "metadata": {},
   "outputs": [],
   "source": [
    "onnx_path = r'models\\ReviewSentimentAnalysis.onnx'"
   ]
  },
  {
   "cell_type": "code",
   "execution_count": 53,
   "id": "4d12fa0b",
   "metadata": {},
   "outputs": [],
   "source": [
    "onnx.save(onnx_model, onnx_path)"
   ]
  },
  {
   "cell_type": "markdown",
   "id": "d33f6d24",
   "metadata": {},
   "source": [
    "# Inference from Onnx"
   ]
  },
  {
   "cell_type": "markdown",
   "id": "262de231",
   "metadata": {},
   "source": [
    "Below is inference code where I used the trained ONNX model for prediction. Onnx suuports wide range of languages like Python, C++, C#, Java, JavaScript, and more.  \n",
    "Based on your require you can rewrite the below inference code. I am just giving the reference code in python.\n"
   ]
  },
  {
   "cell_type": "code",
   "execution_count": 57,
   "id": "ab4c7e7f",
   "metadata": {},
   "outputs": [],
   "source": [
    "onnx_model = rt.InferenceSession(onnx_path)   #onnx_path has got our onnx model now\n",
    "\n",
    "def predictOnnxNew(texts):\n",
    "    input_data = np.array(texts, dtype=np.str).reshape(-1, 1)\n",
    "\n",
    "    result = onnx_model.run(None, {'input': input_data})\n",
    "    \n",
    "\n",
    "    label_num = result[0][0]   \n",
    "    probability = result[1][0][label_num]\n",
    "\n",
    "\n",
    "#     print(\"Onnx\" + \" lable predicted \" + str(label_num) + \"    \" + str(probability) + \"    \" + texts)\n",
    "    return label_num,probability"
   ]
  },
  {
   "cell_type": "code",
   "execution_count": 58,
   "id": "921c802e",
   "metadata": {},
   "outputs": [
    {
     "name": "stderr",
     "output_type": "stream",
     "text": [
      "C:\\Users\\HKT1COB\\AppData\\Local\\Temp\\ipykernel_24100\\3822840840.py:4: DeprecationWarning: `np.str` is a deprecated alias for the builtin `str`. To silence this warning, use `str` by itself. Doing this will not modify any behavior and is safe. If you specifically wanted the numpy scalar type, use `np.str_` here.\n",
      "Deprecated in NumPy 1.20; for more details and guidance: https://numpy.org/devdocs/release/1.20.0-notes.html#deprecations\n",
      "  input_data = np.array(texts, dtype=np.str).reshape(-1, 1)\n"
     ]
    }
   ],
   "source": [
    "output_list = []\n",
    "Probability_list = []\n",
    "for user_input  in X_test:\n",
    "    y_label,Probability = predictOnnxNew(user_input)\n",
    "    output_list.append(y_label)\n",
    "    Probability_list.append(Probability)"
   ]
  },
  {
   "cell_type": "markdown",
   "id": "0f80e5e6",
   "metadata": {},
   "source": [
    "I am just ensuring sklearn model and Onnx model has got same accuracy in the test set"
   ]
  },
  {
   "cell_type": "code",
   "execution_count": 59,
   "id": "5308728a",
   "metadata": {},
   "outputs": [
    {
     "name": "stdout",
     "output_type": "stream",
     "text": [
      "[[345   0   0   0  36]\n",
      " [ 35   0   0   0  11]\n",
      " [ 14   0   0   0  10]\n",
      " [ 20   0   0   0  68]\n",
      " [ 29   0   0   0 632]]\n",
      "              precision    recall  f1-score   support\n",
      "\n",
      "           1       0.78      0.91      0.84       381\n",
      "           2       0.00      0.00      0.00        46\n",
      "           3       0.00      0.00      0.00        24\n",
      "           4       0.00      0.00      0.00        88\n",
      "           5       0.83      0.96      0.89       661\n",
      "\n",
      "    accuracy                           0.81      1200\n",
      "   macro avg       0.32      0.37      0.35      1200\n",
      "weighted avg       0.71      0.81      0.76      1200\n",
      "\n",
      "0.8141666666666667\n"
     ]
    },
    {
     "name": "stderr",
     "output_type": "stream",
     "text": [
      "c:\\users\\hkt1cob\\appdata\\local\\programs\\python\\python38\\lib\\site-packages\\sklearn\\metrics\\_classification.py:1327: UndefinedMetricWarning: Precision and F-score are ill-defined and being set to 0.0 in labels with no predicted samples. Use `zero_division` parameter to control this behavior.\n",
      "  _warn_prf(average, modifier, msg_start, len(result))\n",
      "c:\\users\\hkt1cob\\appdata\\local\\programs\\python\\python38\\lib\\site-packages\\sklearn\\metrics\\_classification.py:1327: UndefinedMetricWarning: Precision and F-score are ill-defined and being set to 0.0 in labels with no predicted samples. Use `zero_division` parameter to control this behavior.\n",
      "  _warn_prf(average, modifier, msg_start, len(result))\n",
      "c:\\users\\hkt1cob\\appdata\\local\\programs\\python\\python38\\lib\\site-packages\\sklearn\\metrics\\_classification.py:1327: UndefinedMetricWarning: Precision and F-score are ill-defined and being set to 0.0 in labels with no predicted samples. Use `zero_division` parameter to control this behavior.\n",
      "  _warn_prf(average, modifier, msg_start, len(result))\n"
     ]
    }
   ],
   "source": [
    "testy_pred = np.array(output_list)\n",
    "\n",
    "print(confusion_matrix(y_test,testy_pred))\n",
    "print(classification_report(y_test,testy_pred))\n",
    "print(accuracy_score(y_test, testy_pred))"
   ]
  },
  {
   "cell_type": "code",
   "execution_count": null,
   "id": "9d0739c5",
   "metadata": {},
   "outputs": [],
   "source": []
  }
 ],
 "metadata": {
  "kernelspec": {
   "display_name": "Python 3 (ipykernel)",
   "language": "python",
   "name": "python3"
  },
  "language_info": {
   "codemirror_mode": {
    "name": "ipython",
    "version": 3
   },
   "file_extension": ".py",
   "mimetype": "text/x-python",
   "name": "python",
   "nbconvert_exporter": "python",
   "pygments_lexer": "ipython3",
   "version": "3.8.0"
  }
 },
 "nbformat": 4,
 "nbformat_minor": 5
}
